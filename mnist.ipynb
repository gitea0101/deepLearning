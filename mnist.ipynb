{
 "cells": [
  {
   "cell_type": "code",
   "execution_count": 1,
   "metadata": {},
   "outputs": [],
   "source": [
    "import tensorflow as tf\n",
    "import pandas as pd\n",
    "import numpy as np\n",
    "import matplotlib.pyplot as plt\n",
    "from keras import backend as K\n",
    "from keras.layers.core import Activation\n",
    "from keras.utils.generic_utils import get_custom_objects\n",
    "\n",
    "def sm(x):\n",
    "  return K.abs(x)*K.sigmoid(30*(x+0.5))*K.tanh(5*x)\n",
    "\n",
    "def sm2(x):\n",
    "  return tf.keras.activations.gelu(x)\n",
    "\n",
    "def sm3(x):\n",
    "  return x*K.sigmoid(80*(x+1))*K.tanh(x)*2\n",
    "\n",
    "def sm4(x):\n",
    "  return x*K.sigmoid(20*(x+1))*K.tanh(x)*K.tanh(10*(x+0.2))\n",
    "\n",
    "def sm5(x):\n",
    "  return 0.5*x*(K.tanh(x)+1.02)\n",
    "    \n",
    "get_custom_objects().update({'ca': Activation(sm5)})"
   ]
  },
  {
   "cell_type": "code",
   "execution_count": 2,
   "metadata": {},
   "outputs": [],
   "source": [
    "mnist = tf.keras.datasets.mnist\n",
    "\n",
    "(train_x, train_y), (test_x, test_y) = mnist.load_data()\n",
    "\n",
    "train_x, test_x = train_x/255.0, test_x/255.0"
   ]
  },
  {
   "cell_type": "code",
   "execution_count": 3,
   "metadata": {},
   "outputs": [
    {
     "name": "stdout",
     "output_type": "stream",
     "text": [
      "Epoch 1/3\n",
      "1875/1875 [==============================] - 4s 1ms/step - loss: 0.4570 - accuracy: 0.8645\n",
      "Epoch 2/3\n",
      "1875/1875 [==============================] - 3s 1ms/step - loss: 0.2697 - accuracy: 0.9219\n",
      "Epoch 3/3\n",
      "1875/1875 [==============================] - 3s 1ms/step - loss: 0.2389 - accuracy: 0.9314\n",
      "313/313 [==============================] - 0s 1ms/step - loss: 0.2323 - accuracy: 0.9328\n"
     ]
    }
   ],
   "source": [
    "model = tf.keras.models.Sequential([\n",
    "    tf.keras.layers.Flatten(input_shape = (28, 28)),\n",
    "    tf.keras.layers.Dense(units = 10, activation = 'gelu'),\n",
    "    tf.keras.layers.Dense(units = 20, activation = 'gelu'),\n",
    "    tf.keras.layers.Dense(units = 10, activation = 'softmax')\n",
    "])\n",
    "model.compile(optimizer = 'adam',\n",
    "              loss = 'sparse_categorical_crossentropy',\n",
    "              metrics = ['accuracy'])\n",
    "loss = model.fit(train_x, train_y, epochs = 3)\n",
    "test_loss, test_acc = model.evaluate(test_x, test_y)"
   ]
  },
  {
   "cell_type": "code",
   "execution_count": 5,
   "metadata": {},
   "outputs": [
    {
     "ename": "ValueError",
     "evalue": "not enough values to unpack (expected 2, got 0)",
     "output_type": "error",
     "traceback": [
      "\u001b[1;31m---------------------------------------------------------------------------\u001b[0m",
      "\u001b[1;31mValueError\u001b[0m                                Traceback (most recent call last)",
      "Cell \u001b[1;32mIn [5], line 1\u001b[0m\n\u001b[1;32m----> 1\u001b[0m weights,biases \u001b[39m=\u001b[39m model\u001b[39m.\u001b[39mlayers[\u001b[39m0\u001b[39m]\u001b[39m.\u001b[39mget_weights()\n\u001b[0;32m      2\u001b[0m weights,biases\n",
      "\u001b[1;31mValueError\u001b[0m: not enough values to unpack (expected 2, got 0)"
     ]
    }
   ],
   "source": [
    "weights,biases = model.layers[0].get_weights()\n",
    "weights,biases"
   ]
  },
  {
   "cell_type": "code",
   "execution_count": null,
   "metadata": {},
   "outputs": [
    {
     "data": {
      "text/plain": [
       "(array([[ 2.0925906e+00,  2.4475299e-01, -1.2194715e+00, -7.9238588e-01,\n",
       "         -2.5307755e+00, -2.2172308e+00, -1.1222368e-01, -2.0953858e+00],\n",
       "        [ 3.2391652e-01, -2.0742327e-01, -3.3034834e-01, -2.2199154e-01,\n",
       "          6.7021072e-01,  1.7964709e-01,  1.3833033e-01,  1.2609378e-01],\n",
       "        [ 2.7617779e+00,  3.4032062e-01, -1.7401999e+00, -2.9685745e+00,\n",
       "         -1.4424821e+00, -1.3514466e+00, -4.7517014e-01, -7.4108100e-01],\n",
       "        [-2.3440433e+00, -1.4648803e+00,  2.1829515e+00,  2.6366427e+00,\n",
       "         -9.8971277e-02, -2.4814194e-01,  2.1988383e-02,  5.4847193e-01],\n",
       "        [ 3.3589765e-01, -1.7045419e-01, -3.8612550e-01, -3.9348307e-01,\n",
       "          2.6839462e-01,  6.1124617e-01,  2.1983902e-03,  6.5783936e-01],\n",
       "        [ 2.3645003e+00,  8.2899988e-02, -2.5273645e+00, -1.7627323e+00,\n",
       "         -8.1400985e-01, -3.6766899e-01, -1.3329522e-01, -3.0873916e-01],\n",
       "        [ 2.2323537e+00, -1.2999508e-01, -2.6802995e+00, -2.9149435e+00,\n",
       "         -1.6792758e+00, -7.9257619e-01,  5.8268690e-01, -9.5278114e-01],\n",
       "        [ 5.6859744e-01, -4.5231923e-01,  1.2992264e-01, -5.3513885e-01,\n",
       "          7.9926109e-01,  4.3782130e-01, -6.4769363e-01, -2.9207027e-01]],\n",
       "       dtype=float32),\n",
       " array([ 0.22697733, -0.01818721, -0.1478223 , -0.14275838,  0.3733738 ,\n",
       "         0.39501336, -0.08271918,  0.4346088 ], dtype=float32))"
      ]
     },
     "execution_count": 41,
     "metadata": {},
     "output_type": "execute_result"
    }
   ],
   "source": [
    "weights,biases = model.layers[1].get_weights()\n",
    "weights,biases"
   ]
  },
  {
   "cell_type": "code",
   "execution_count": 42,
   "metadata": {},
   "outputs": [
    {
     "data": {
      "text/plain": [
       "[array([[ 0.98764694],\n",
       "        [ 0.5616417 ],\n",
       "        [-0.9347488 ],\n",
       "        [-0.64826334],\n",
       "        [-0.27724284],\n",
       "        [-0.27156585],\n",
       "        [ 0.56903917],\n",
       "        [-0.63406086]], dtype=float32),\n",
       " array([0.26302582], dtype=float32)]"
      ]
     },
     "execution_count": 42,
     "metadata": {},
     "output_type": "execute_result"
    }
   ],
   "source": [
    "model.layers[2].get_weights()\n"
   ]
  },
  {
   "cell_type": "code",
   "execution_count": null,
   "metadata": {},
   "outputs": [],
   "source": []
  },
  {
   "cell_type": "code",
   "execution_count": null,
   "metadata": {},
   "outputs": [],
   "source": []
  }
 ],
 "metadata": {
  "kernelspec": {
   "display_name": "tensor",
   "language": "python",
   "name": "python3"
  },
  "language_info": {
   "codemirror_mode": {
    "name": "ipython",
    "version": 3
   },
   "file_extension": ".py",
   "mimetype": "text/x-python",
   "name": "python",
   "nbconvert_exporter": "python",
   "pygments_lexer": "ipython3",
   "version": "3.9.13"
  },
  "orig_nbformat": 4,
  "vscode": {
   "interpreter": {
    "hash": "f344b8cf5f49a34ecb8642d7a7c67b8fb0a38b8bd9d961fbd1443fa1587c67cf"
   }
  }
 },
 "nbformat": 4,
 "nbformat_minor": 2
}
