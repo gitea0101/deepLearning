{
  "cells": [
    {
      "cell_type": "code",
      "execution_count": 1,
      "metadata": {
        "id": "5bCr08WTXUAQ"
      },
      "outputs": [],
      "source": [
        "import tensorflow as tf\n",
        "import pandas as pd\n",
        "import numpy as np\n",
        "import matplotlib.pyplot as plt\n",
        "from keras import backend as K\n",
        "from keras.layers.core import Activation\n",
        "from keras.utils.generic_utils import get_custom_objects\n",
        "\n",
        "def sm(x):\n",
        "  return K.abs(x)*K.sigmoid(30*(x+0.5))*K.tanh(5*x)\n",
        "\n",
        "def sm2(x):\n",
        "  return 0.5*K.abs(x)*(K.tanh(x)+0.98)\n",
        "\n",
        "def sm3(x):\n",
        "  return x*K.sigmoid(80*(x+1))*K.tanh(x)*2\n",
        "\n",
        "def sm4(x):\n",
        "  return x*K.sigmoid(20*(x+1))*K.tanh(x)*K.tanh(10*(x+0.2))\n",
        "\n",
        "def sm5(x):\n",
        "  return 0.5*x*(K.tanh(100*x-1)+1.02)\n",
        "get_custom_objects().update({'ca': Activation(sm)})"
      ]
    },
    {
      "cell_type": "code",
      "execution_count": 2,
      "metadata": {
        "colab": {
          "base_uri": "https://localhost:8080/"
        },
        "id": "RiPc9GwJXj8Q",
        "outputId": "ef7309e6-d2fe-4209-ddad-100f9eab52ed"
      },
      "outputs": [],
      "source": [
        "mnist = tf.keras.datasets.mnist\n",
        "\n",
        "(train_x, train_y), (test_x, test_y) = mnist.load_data()\n",
        "\n",
        "train_x, test_x = train_x/255.0, test_x/255.0"
      ]
    },
    {
      "cell_type": "code",
      "execution_count": 3,
      "metadata": {
        "id": "cCSwn8CXXl0o"
      },
      "outputs": [],
      "source": [
        "train_x = train_x.reshape((train_x.shape[0], 28, 28, 1))\n",
        "test_x = test_x.reshape((test_x.shape[0], 28, 28, 1))"
      ]
    },
    {
      "cell_type": "code",
      "execution_count": 7,
      "metadata": {
        "id": "Y3Zjb3tIXmp-"
      },
      "outputs": [
        {
          "name": "stdout",
          "output_type": "stream",
          "text": [
            "Epoch 1/5\n",
            "600/600 [==============================] - 1s 2ms/step - loss: 0.6222 - accuracy: 0.8445\n",
            "Epoch 2/5\n",
            "600/600 [==============================] - 1s 2ms/step - loss: 0.1933 - accuracy: 0.9469\n",
            "Epoch 3/5\n",
            "600/600 [==============================] - 1s 2ms/step - loss: 0.1338 - accuracy: 0.9621\n",
            "Epoch 4/5\n",
            "600/600 [==============================] - 1s 2ms/step - loss: 0.1063 - accuracy: 0.9699\n",
            "Epoch 5/5\n",
            "600/600 [==============================] - 1s 2ms/step - loss: 0.0894 - accuracy: 0.9740\n",
            "313/313 [==============================] - 0s 1ms/step - loss: 0.0828 - accuracy: 0.9751\n"
          ]
        }
      ],
      "source": [
        "model = tf.keras.models.Sequential([\n",
        "    tf.keras.layers.Conv2D(filters = 4, \n",
        "                           kernel_size = (3,3), \n",
        "                           activation = 'ca',\n",
        "                           padding = 'SAME',\n",
        "                           input_shape = (28, 28, 1)),\n",
        "    \n",
        "    tf.keras.layers.MaxPool2D((2,2)),\n",
        "    \n",
        "    tf.keras.layers.Conv2D(filters = 8, \n",
        "                           kernel_size = (3,3), \n",
        "                           activation = 'ca',\n",
        "                           padding = 'SAME',\n",
        "                           input_shape = (14, 14, 32)),\n",
        "    \n",
        "    tf.keras.layers.MaxPool2D((2,2)),\n",
        "    \n",
        "    tf.keras.layers.Flatten(),\n",
        "    \n",
        "    tf.keras.layers.Dense(units = 16, activation = 'ca'),\n",
        "    \n",
        "    tf.keras.layers.Dense(units = 10, activation = 'softmax')\n",
        "])\n",
        "model.compile(optimizer = 'adam',\n",
        "              loss = 'sparse_categorical_crossentropy',\n",
        "              metrics = 'accuracy')\n",
        "model.fit(train_x, train_y, batch_size = 100, epochs = 5)\n",
        "test_loss, test_acc = model.evaluate(test_x, test_y)"
      ]
    },
    {
      "cell_type": "code",
      "execution_count": 21,
      "metadata": {
        "colab": {
          "base_uri": "https://localhost:8080/",
          "height": 412
        },
        "id": "OInSNzPpXrjs",
        "outputId": "034edd04-6d26-41ef-f050-8d2306c06a9b"
      },
      "outputs": [
        {
          "name": "stdout",
          "output_type": "stream",
          "text": [
            "1/1 [==============================] - 0s 15ms/step\n"
          ]
        },
        {
          "data": {
            "image/png": "[encoded data removed]",
            "text/plain": [
              "<Figure size 1200x500 with 2 Axes>"
            ]
          },
          "metadata": {},
          "output_type": "display_data"
        },
        {
          "name": "stdout",
          "output_type": "stream",
          "text": [
            "Prediction : 9\n"
          ]
        }
      ],
      "source": [
        "test_img = test_x[[150]]\n",
        "\n",
        "predict = model.predict(test_img)\n",
        "mypred = np.argmax(predict, axis = 1)\n",
        "\n",
        "plt.figure(figsize = (12,5))\n",
        "\n",
        "plt.subplot(1,2,1)\n",
        "plt.imshow(test_img.reshape(28, 28), 'gray')\n",
        "plt.axis('off')\n",
        "plt.subplot(1,2,2)\n",
        "plt.stem(predict[0])\n",
        "plt.show()\n",
        "\n",
        "print('Prediction : {}'.format(mypred[0]))"
      ]
    },
    {
      "cell_type": "code",
      "execution_count": null,
      "metadata": {
        "id": "dggsXcEkXs-K"
      },
      "outputs": [],
      "source": []
    }
  ],
  "metadata": {
    "accelerator": "GPU",
    "colab": {
      "provenance": []
    },
    "gpuClass": "standard",
    "kernelspec": {
      "display_name": "tensor",
      "language": "python",
      "name": "python3"
    },
    "language_info": {
      "codemirror_mode": {
        "name": "ipython",
        "version": 3
      },
      "file_extension": ".py",
      "mimetype": "text/x-python",
      "name": "python",
      "nbconvert_exporter": "python",
      "pygments_lexer": "ipython3",
      "version": "3.9.13 (main, Oct 13 2022, 21:23:06) [MSC v.1916 64 bit (AMD64)]"
    },
    "vscode": {
      "interpreter": {
        "hash": "f344b8cf5f49a34ecb8642d7a7c67b8fb0a38b8bd9d961fbd1443fa1587c67cf"
      }
    }
  },
  "nbformat": 4,
  "nbformat_minor": 0
}
