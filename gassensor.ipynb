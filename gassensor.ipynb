{
  "cells": [
    {
      "cell_type": "code",
      "execution_count": 99,
      "metadata": {
        "id": "IyK3noPtXwg1"
      },
      "outputs": [],
      "source": [
        "import tensorflow as tf\n",
        "import pandas as pd\n",
        "import numpy as np"
      ]
    },
    {
      "cell_type": "code",
      "execution_count": 100,
      "metadata": {
        "id": "57x7mZghXwg3"
      },
      "outputs": [],
      "source": [
        "a = pd.read_csv(\"ethylene_CO2s.csv\")"
      ]
    },
    {
      "cell_type": "code",
      "execution_count": 101,
      "metadata": {
        "id": "gR5ojP5Ja6rQ"
      },
      "outputs": [],
      "source": [
        "from sklearn.preprocessing import MinMaxScaler\n",
        "\n",
        "scaler = MinMaxScaler()\n",
        "a.iloc[:,3:] = scaler.fit_transform(a.iloc[:,3:])"
      ]
    },
    {
      "cell_type": "code",
      "execution_count": 102,
      "metadata": {
        "colab": {
          "base_uri": "https://localhost:8080/"
        },
        "id": "cwiQYyVuXwg3",
        "outputId": "1950ec4b-937d-49fc-905b-10e725b14bb6"
      },
      "outputs": [
        {
          "name": "stderr",
          "output_type": "stream",
          "text": [
            "C:\\Users\\user\\AppData\\Local\\Temp\\ipykernel_15824\\2498775227.py:4: SettingWithCopyWarning: \n",
            "A value is trying to be set on a copy of a slice from a DataFrame\n",
            "\n",
            "See the caveats in the documentation: https://pandas.pydata.org/pandas-docs/stable/user_guide/indexing.html#returning-a-view-versus-a-copy\n",
            "  a[f\"d{i}\"][1:] = (a.iloc[1:,2+i].reset_index(drop=True) - a.iloc[0:-1,2+i].reset_index(drop=True))/(a.iloc[1:,0].reset_index(drop=True) - a.iloc[0:-1,0].reset_index(drop=True))\n"
          ]
        }
      ],
      "source": [
        "for i in range(1,17):\n",
        "    a[f\"d{i}\"] = 0\n",
        "for i in range(1,17):\n",
        "    a[f\"d{i}\"][1:] = (a.iloc[1:,2+i].reset_index(drop=True) - a.iloc[0:-1,2+i].reset_index(drop=True))/(a.iloc[1:,0].reset_index(drop=True) - a.iloc[0:-1,0].reset_index(drop=True))"
      ]
    },
    {
      "cell_type": "code",
      "execution_count": 103,
      "metadata": {},
      "outputs": [
        {
          "data": {
            "text/html": [
              "<div>\n",
              "<style scoped>\n",
              "    .dataframe tbody tr th:only-of-type {\n",
              "        vertical-align: middle;\n",
              "    }\n",
              "\n",
              "    .dataframe tbody tr th {\n",
              "        vertical-align: top;\n",
              "    }\n",
              "\n",
              "    .dataframe thead th {\n",
              "        text-align: right;\n",
              "    }\n",
              "</style>\n",
              "<table border=\"1\" class=\"dataframe\">\n",
              "  <thead>\n",
              "    <tr style=\"text-align: right;\">\n",
              "      <th></th>\n",
              "      <th>Time(seconds)</th>\n",
              "      <th>CO</th>\n",
              "      <th>Ethylene</th>\n",
              "      <th>1</th>\n",
              "      <th>2</th>\n",
              "      <th>3</th>\n",
              "      <th>4</th>\n",
              "      <th>5</th>\n",
              "      <th>6</th>\n",
              "      <th>7</th>\n",
              "      <th>...</th>\n",
              "      <th>d7</th>\n",
              "      <th>d8</th>\n",
              "      <th>d9</th>\n",
              "      <th>d10</th>\n",
              "      <th>d11</th>\n",
              "      <th>d12</th>\n",
              "      <th>d13</th>\n",
              "      <th>d14</th>\n",
              "      <th>d15</th>\n",
              "      <th>d16</th>\n",
              "    </tr>\n",
              "  </thead>\n",
              "  <tbody>\n",
              "    <tr>\n",
              "      <th>0</th>\n",
              "      <td>95.06</td>\n",
              "      <td>0.0</td>\n",
              "      <td>0.0</td>\n",
              "      <td>0.140116</td>\n",
              "      <td>0.162502</td>\n",
              "      <td>0.003406</td>\n",
              "      <td>0.003211</td>\n",
              "      <td>0.096638</td>\n",
              "      <td>0.211157</td>\n",
              "      <td>0.003557</td>\n",
              "      <td>...</td>\n",
              "      <td>0.000000</td>\n",
              "      <td>0.000000</td>\n",
              "      <td>0.000000</td>\n",
              "      <td>0.000000</td>\n",
              "      <td>0.000000</td>\n",
              "      <td>0.000000</td>\n",
              "      <td>0.000000</td>\n",
              "      <td>0.000000</td>\n",
              "      <td>0.000000</td>\n",
              "      <td>0.000000</td>\n",
              "    </tr>\n",
              "    <tr>\n",
              "      <th>1</th>\n",
              "      <td>95.16</td>\n",
              "      <td>0.0</td>\n",
              "      <td>0.0</td>\n",
              "      <td>0.143936</td>\n",
              "      <td>0.162989</td>\n",
              "      <td>0.002658</td>\n",
              "      <td>0.003358</td>\n",
              "      <td>0.102637</td>\n",
              "      <td>0.223620</td>\n",
              "      <td>0.002459</td>\n",
              "      <td>...</td>\n",
              "      <td>-0.010977</td>\n",
              "      <td>0.000000</td>\n",
              "      <td>0.033555</td>\n",
              "      <td>0.023621</td>\n",
              "      <td>0.006126</td>\n",
              "      <td>0.000440</td>\n",
              "      <td>0.112929</td>\n",
              "      <td>-0.031648</td>\n",
              "      <td>-0.003794</td>\n",
              "      <td>0.015133</td>\n",
              "    </tr>\n",
              "    <tr>\n",
              "      <th>2</th>\n",
              "      <td>95.26</td>\n",
              "      <td>0.0</td>\n",
              "      <td>0.0</td>\n",
              "      <td>0.144808</td>\n",
              "      <td>0.162683</td>\n",
              "      <td>0.001912</td>\n",
              "      <td>0.003622</td>\n",
              "      <td>0.106556</td>\n",
              "      <td>0.218345</td>\n",
              "      <td>0.001469</td>\n",
              "      <td>...</td>\n",
              "      <td>-0.009904</td>\n",
              "      <td>0.016852</td>\n",
              "      <td>-0.004457</td>\n",
              "      <td>-0.015768</td>\n",
              "      <td>-0.012253</td>\n",
              "      <td>0.014715</td>\n",
              "      <td>-0.181747</td>\n",
              "      <td>-0.303887</td>\n",
              "      <td>0.024502</td>\n",
              "      <td>-0.008321</td>\n",
              "    </tr>\n",
              "    <tr>\n",
              "      <th>3</th>\n",
              "      <td>95.36</td>\n",
              "      <td>0.0</td>\n",
              "      <td>0.0</td>\n",
              "      <td>0.136557</td>\n",
              "      <td>0.164091</td>\n",
              "      <td>0.003706</td>\n",
              "      <td>0.002656</td>\n",
              "      <td>0.100416</td>\n",
              "      <td>0.223620</td>\n",
              "      <td>0.002459</td>\n",
              "      <td>...</td>\n",
              "      <td>0.009904</td>\n",
              "      <td>-0.005881</td>\n",
              "      <td>-0.069211</td>\n",
              "      <td>0.025883</td>\n",
              "      <td>0.001018</td>\n",
              "      <td>-0.036525</td>\n",
              "      <td>0.109997</td>\n",
              "      <td>0.319711</td>\n",
              "      <td>-0.011966</td>\n",
              "      <td>-0.013971</td>\n",
              "    </tr>\n",
              "    <tr>\n",
              "      <th>4</th>\n",
              "      <td>95.45</td>\n",
              "      <td>0.0</td>\n",
              "      <td>0.0</td>\n",
              "      <td>0.144979</td>\n",
              "      <td>0.162898</td>\n",
              "      <td>0.002838</td>\n",
              "      <td>0.002510</td>\n",
              "      <td>0.105507</td>\n",
              "      <td>0.222593</td>\n",
              "      <td>0.003612</td>\n",
              "      <td>...</td>\n",
              "      <td>0.012801</td>\n",
              "      <td>-0.003114</td>\n",
              "      <td>0.081854</td>\n",
              "      <td>-0.093605</td>\n",
              "      <td>-0.011705</td>\n",
              "      <td>0.002465</td>\n",
              "      <td>-0.186431</td>\n",
              "      <td>0.126844</td>\n",
              "      <td>-0.000316</td>\n",
              "      <td>0.000828</td>\n",
              "    </tr>\n",
              "    <tr>\n",
              "      <th>...</th>\n",
              "      <td>...</td>\n",
              "      <td>...</td>\n",
              "      <td>...</td>\n",
              "      <td>...</td>\n",
              "      <td>...</td>\n",
              "      <td>...</td>\n",
              "      <td>...</td>\n",
              "      <td>...</td>\n",
              "      <td>...</td>\n",
              "      <td>...</td>\n",
              "      <td>...</td>\n",
              "      <td>...</td>\n",
              "      <td>...</td>\n",
              "      <td>...</td>\n",
              "      <td>...</td>\n",
              "      <td>...</td>\n",
              "      <td>...</td>\n",
              "      <td>...</td>\n",
              "      <td>...</td>\n",
              "      <td>...</td>\n",
              "      <td>...</td>\n",
              "    </tr>\n",
              "    <tr>\n",
              "      <th>99995</th>\n",
              "      <td>10095.05</td>\n",
              "      <td>0.0</td>\n",
              "      <td>10.0</td>\n",
              "      <td>0.227490</td>\n",
              "      <td>0.009755</td>\n",
              "      <td>0.566567</td>\n",
              "      <td>0.569667</td>\n",
              "      <td>0.398795</td>\n",
              "      <td>0.282085</td>\n",
              "      <td>0.558460</td>\n",
              "      <td>...</td>\n",
              "      <td>0.024645</td>\n",
              "      <td>-0.001521</td>\n",
              "      <td>-0.142052</td>\n",
              "      <td>0.034489</td>\n",
              "      <td>0.054166</td>\n",
              "      <td>0.045484</td>\n",
              "      <td>0.043692</td>\n",
              "      <td>-0.222667</td>\n",
              "      <td>-0.015706</td>\n",
              "      <td>0.017495</td>\n",
              "    </tr>\n",
              "    <tr>\n",
              "      <th>99996</th>\n",
              "      <td>10095.15</td>\n",
              "      <td>0.0</td>\n",
              "      <td>10.0</td>\n",
              "      <td>0.227131</td>\n",
              "      <td>0.009344</td>\n",
              "      <td>0.566622</td>\n",
              "      <td>0.570474</td>\n",
              "      <td>0.412289</td>\n",
              "      <td>0.296535</td>\n",
              "      <td>0.555227</td>\n",
              "      <td>...</td>\n",
              "      <td>-0.032338</td>\n",
              "      <td>0.012169</td>\n",
              "      <td>0.057496</td>\n",
              "      <td>-0.029401</td>\n",
              "      <td>-0.070556</td>\n",
              "      <td>-0.037216</td>\n",
              "      <td>-0.100924</td>\n",
              "      <td>0.203291</td>\n",
              "      <td>0.035384</td>\n",
              "      <td>-0.006867</td>\n",
              "    </tr>\n",
              "    <tr>\n",
              "      <th>99997</th>\n",
              "      <td>10095.25</td>\n",
              "      <td>0.0</td>\n",
              "      <td>10.0</td>\n",
              "      <td>0.225692</td>\n",
              "      <td>0.009881</td>\n",
              "      <td>0.566567</td>\n",
              "      <td>0.570097</td>\n",
              "      <td>0.398372</td>\n",
              "      <td>0.278678</td>\n",
              "      <td>0.557073</td>\n",
              "      <td>...</td>\n",
              "      <td>0.018468</td>\n",
              "      <td>0.005078</td>\n",
              "      <td>-0.016618</td>\n",
              "      <td>-0.060058</td>\n",
              "      <td>-0.039956</td>\n",
              "      <td>0.004123</td>\n",
              "      <td>0.081800</td>\n",
              "      <td>0.106732</td>\n",
              "      <td>-0.024732</td>\n",
              "      <td>-0.007503</td>\n",
              "    </tr>\n",
              "    <tr>\n",
              "      <th>99998</th>\n",
              "      <td>10095.35</td>\n",
              "      <td>0.0</td>\n",
              "      <td>10.0</td>\n",
              "      <td>0.230376</td>\n",
              "      <td>0.010455</td>\n",
              "      <td>0.563611</td>\n",
              "      <td>0.569237</td>\n",
              "      <td>0.403334</td>\n",
              "      <td>0.271486</td>\n",
              "      <td>0.560622</td>\n",
              "      <td>...</td>\n",
              "      <td>0.035484</td>\n",
              "      <td>0.022385</td>\n",
              "      <td>-0.008914</td>\n",
              "      <td>0.098443</td>\n",
              "      <td>0.046639</td>\n",
              "      <td>-0.011010</td>\n",
              "      <td>0.103855</td>\n",
              "      <td>-0.274499</td>\n",
              "      <td>0.002250</td>\n",
              "      <td>0.035027</td>\n",
              "    </tr>\n",
              "    <tr>\n",
              "      <th>99999</th>\n",
              "      <td>10095.45</td>\n",
              "      <td>0.0</td>\n",
              "      <td>10.0</td>\n",
              "      <td>0.228032</td>\n",
              "      <td>0.009881</td>\n",
              "      <td>0.564685</td>\n",
              "      <td>0.570474</td>\n",
              "      <td>0.397802</td>\n",
              "      <td>0.275272</td>\n",
              "      <td>0.560106</td>\n",
              "      <td>...</td>\n",
              "      <td>-0.005154</td>\n",
              "      <td>-0.013235</td>\n",
              "      <td>0.002547</td>\n",
              "      <td>-0.102275</td>\n",
              "      <td>0.027942</td>\n",
              "      <td>0.004814</td>\n",
              "      <td>-0.114744</td>\n",
              "      <td>0.300334</td>\n",
              "      <td>-0.014582</td>\n",
              "      <td>-0.029413</td>\n",
              "    </tr>\n",
              "  </tbody>\n",
              "</table>\n",
              "<p>100000 rows × 35 columns</p>\n",
              "</div>"
            ],
            "text/plain": [
              "       Time(seconds)   CO  Ethylene         1         2         3         4  \\\n",
              "0              95.06  0.0       0.0  0.140116  0.162502  0.003406  0.003211   \n",
              "1              95.16  0.0       0.0  0.143936  0.162989  0.002658  0.003358   \n",
              "2              95.26  0.0       0.0  0.144808  0.162683  0.001912  0.003622   \n",
              "3              95.36  0.0       0.0  0.136557  0.164091  0.003706  0.002656   \n",
              "4              95.45  0.0       0.0  0.144979  0.162898  0.002838  0.002510   \n",
              "...              ...  ...       ...       ...       ...       ...       ...   \n",
              "99995       10095.05  0.0      10.0  0.227490  0.009755  0.566567  0.569667   \n",
              "99996       10095.15  0.0      10.0  0.227131  0.009344  0.566622  0.570474   \n",
              "99997       10095.25  0.0      10.0  0.225692  0.009881  0.566567  0.570097   \n",
              "99998       10095.35  0.0      10.0  0.230376  0.010455  0.563611  0.569237   \n",
              "99999       10095.45  0.0      10.0  0.228032  0.009881  0.564685  0.570474   \n",
              "\n",
              "              5         6         7  ...        d7        d8        d9  \\\n",
              "0      0.096638  0.211157  0.003557  ...  0.000000  0.000000  0.000000   \n",
              "1      0.102637  0.223620  0.002459  ... -0.010977  0.000000  0.033555   \n",
              "2      0.106556  0.218345  0.001469  ... -0.009904  0.016852 -0.004457   \n",
              "3      0.100416  0.223620  0.002459  ...  0.009904 -0.005881 -0.069211   \n",
              "4      0.105507  0.222593  0.003612  ...  0.012801 -0.003114  0.081854   \n",
              "...         ...       ...       ...  ...       ...       ...       ...   \n",
              "99995  0.398795  0.282085  0.558460  ...  0.024645 -0.001521 -0.142052   \n",
              "99996  0.412289  0.296535  0.555227  ... -0.032338  0.012169  0.057496   \n",
              "99997  0.398372  0.278678  0.557073  ...  0.018468  0.005078 -0.016618   \n",
              "99998  0.403334  0.271486  0.560622  ...  0.035484  0.022385 -0.008914   \n",
              "99999  0.397802  0.275272  0.560106  ... -0.005154 -0.013235  0.002547   \n",
              "\n",
              "            d10       d11       d12       d13       d14       d15       d16  \n",
              "0      0.000000  0.000000  0.000000  0.000000  0.000000  0.000000  0.000000  \n",
              "1      0.023621  0.006126  0.000440  0.112929 -0.031648 -0.003794  0.015133  \n",
              "2     -0.015768 -0.012253  0.014715 -0.181747 -0.303887  0.024502 -0.008321  \n",
              "3      0.025883  0.001018 -0.036525  0.109997  0.319711 -0.011966 -0.013971  \n",
              "4     -0.093605 -0.011705  0.002465 -0.186431  0.126844 -0.000316  0.000828  \n",
              "...         ...       ...       ...       ...       ...       ...       ...  \n",
              "99995  0.034489  0.054166  0.045484  0.043692 -0.222667 -0.015706  0.017495  \n",
              "99996 -0.029401 -0.070556 -0.037216 -0.100924  0.203291  0.035384 -0.006867  \n",
              "99997 -0.060058 -0.039956  0.004123  0.081800  0.106732 -0.024732 -0.007503  \n",
              "99998  0.098443  0.046639 -0.011010  0.103855 -0.274499  0.002250  0.035027  \n",
              "99999 -0.102275  0.027942  0.004814 -0.114744  0.300334 -0.014582 -0.029413  \n",
              "\n",
              "[100000 rows x 35 columns]"
            ]
          },
          "execution_count": 103,
          "metadata": {},
          "output_type": "execute_result"
        }
      ],
      "source": [
        "a = a[:100000]\n",
        "a"
      ]
    },
    {
      "cell_type": "code",
      "execution_count": 104,
      "metadata": {
        "id": "RkLJ5mTkXwg4"
      },
      "outputs": [],
      "source": [
        "c = a.iloc[:,1:3]\n",
        "c.iloc[:,1] = c.iloc[:,1] * 30\n",
        "d = a.iloc[:,3:]\n"
      ]
    },
    {
      "cell_type": "code",
      "execution_count": 107,
      "metadata": {
        "id": "Xsnx4XOHXwg6"
      },
      "outputs": [],
      "source": [
        "n_step = 3\n",
        "n_input = 32\n",
        "\n",
        "# LSTM shape\n",
        "n_lstm1 = 100\n",
        "n_lstm2 = 100\n",
        "\n",
        "# fully connected\n",
        "n_hidden = 200\n",
        "n_output = 2"
      ]
    },
    {
      "cell_type": "code",
      "execution_count": 108,
      "metadata": {
        "id": "3ie2yKMu_WiQ"
      },
      "outputs": [],
      "source": [
        "train_x_list = []\n",
        "train_y_list = []\n",
        "for i in range(len(c)-n_step):\n",
        "    train_x = d.iloc[i:i + n_step,:]\n",
        "    train_x_list.append(train_x)\n",
        "\n",
        "    train_y = c.iloc[i+n_step,:]\n",
        "    train_y_list.append(train_y)\n",
        "\n",
        "train_data = np.array(train_x_list[:80000])\n",
        "train_label = np.array(train_y_list[:80000])\n",
        "\n",
        "test_data = np.array(train_x_list[80000:])\n",
        "test_label = np.array(train_y_list[80000:])\n",
        "\n",
        "train_x_list=0\n",
        "train_y_list=0"
      ]
    },
    {
      "cell_type": "code",
      "execution_count": 109,
      "metadata": {
        "id": "pcieCaqDUFg8"
      },
      "outputs": [],
      "source": [
        "from keras import backend as K\n",
        "from keras.layers.core import Activation\n",
        "from keras.utils.generic_utils import get_custom_objects\n",
        "\n",
        "def sm(x):\n",
        "  return K.abs(x)*K.sigmoid(30*(x+0.8))*K.tanh(5*x)\n",
        "\n",
        "def sm2(x):\n",
        "  return x*K.sigmoid(10*(x+1))*K.tanh(x)*K.tanh(10*(x+0.2))\n",
        "    \n",
        "def sm3(x):\n",
        "  return 0.5*x*(K.tanh(x)+1.02)\n",
        "\n",
        "get_custom_objects().update({'ca': Activation(sm)})\n",
        "\n",
        "def clf(y_true, y_pred):\n",
        "   err1 = tf.math.abs(y_true - y_pred)\n",
        "   loss_v= tf.math.reduce_mean(err1)\n",
        "   return loss_v\n",
        "\n",
        "opt = tf.keras.optimizers.Adam(\n",
        "    learning_rate=0.1\n",
        ")"
      ]
    },
    {
      "cell_type": "code",
      "execution_count": 110,
      "metadata": {
        "id": "hUvB-3nm-9fm"
      },
      "outputs": [
        {
          "name": "stdout",
          "output_type": "stream",
          "text": [
            "Model: \"sequential_3\"\n",
            "_________________________________________________________________\n",
            " Layer (type)                Output Shape              Param #   \n",
            "=================================================================\n",
            " lstm_6 (LSTM)               (None, 3, 100)            53200     \n",
            "                                                                 \n",
            " lstm_7 (LSTM)               (None, 100)               80400     \n",
            "                                                                 \n",
            " dense_9 (Dense)             (None, 200)               20200     \n",
            "                                                                 \n",
            " dense_10 (Dense)            (None, 400)               80400     \n",
            "                                                                 \n",
            " dense_11 (Dense)            (None, 2)                 802       \n",
            "                                                                 \n",
            "=================================================================\n",
            "Total params: 235,002\n",
            "Trainable params: 235,002\n",
            "Non-trainable params: 0\n",
            "_________________________________________________________________\n"
          ]
        }
      ],
      "source": [
        "lstm_network = tf.keras.models.Sequential([\n",
        "    tf.keras.layers.Input(shape = (n_step, n_input)),\n",
        "    tf.keras.layers.LSTM(n_lstm1, return_sequences = True),\n",
        "    tf.keras.layers.LSTM(n_lstm2),\n",
        "    tf.keras.layers.Dense(n_hidden,activation='relu',kernel_initializer='he_normal'),\n",
        "    tf.keras.layers.Dense(n_hidden*2,activation='relu',kernel_initializer='he_normal'),\n",
        "    tf.keras.layers.Dense(n_output,activation='linear'),\n",
        "])\n",
        "\n",
        "lstm_network.summary()"
      ]
    },
    {
      "cell_type": "code",
      "execution_count": 111,
      "metadata": {},
      "outputs": [
        {
          "data": {
            "text/plain": [
              "array([240.  ,   0.  , 306.67, 346.67, 280.  , 333.33, 293.33, 253.33,\n",
              "       226.67, 266.67])"
            ]
          },
          "execution_count": 111,
          "metadata": {},
          "output_type": "execute_result"
        }
      ],
      "source": [
        "pd.DataFrame(test_label).iloc[:,0].unique()"
      ]
    },
    {
      "cell_type": "code",
      "execution_count": 113,
      "metadata": {
        "id": "29lrawGa-_UP"
      },
      "outputs": [],
      "source": [
        "lstm_network.compile(optimizer = 'adam', \n",
        "                     loss = 'mean_squared_error', \n",
        "                     metrics = ['mse'])"
      ]
    },
    {
      "cell_type": "code",
      "execution_count": 114,
      "metadata": {
        "colab": {
          "base_uri": "https://localhost:8080/"
        },
        "id": "kq-n5p5-FLN4",
        "outputId": "6ddaf69a-07a8-479b-90a7-33ad2a46afd4"
      },
      "outputs": [
        {
          "name": "stdout",
          "output_type": "stream",
          "text": [
            "Epoch 1/20\n",
            "2500/2500 [==============================] - 9s 3ms/step - loss: 6209.1587 - mse: 6209.1587\n",
            "Epoch 2/20\n",
            "2500/2500 [==============================] - 7s 3ms/step - loss: 3406.6328 - mse: 3406.6328\n",
            "Epoch 3/20\n",
            "2500/2500 [==============================] - 7s 3ms/step - loss: 2903.3103 - mse: 2903.3103\n",
            "Epoch 4/20\n",
            "2500/2500 [==============================] - 7s 3ms/step - loss: 2572.1968 - mse: 2572.1968\n",
            "Epoch 5/20\n",
            "2500/2500 [==============================] - 7s 3ms/step - loss: 2436.8064 - mse: 2436.8064\n",
            "Epoch 6/20\n",
            "2500/2500 [==============================] - 12s 5ms/step - loss: 2293.9055 - mse: 2293.9055\n",
            "Epoch 7/20\n",
            "2500/2500 [==============================] - 9s 4ms/step - loss: 2148.0071 - mse: 2148.0071\n",
            "Epoch 8/20\n",
            "2500/2500 [==============================] - 9s 4ms/step - loss: 2082.1116 - mse: 2082.1116\n",
            "Epoch 9/20\n",
            "2500/2500 [==============================] - 14s 5ms/step - loss: 2025.7584 - mse: 2025.7584\n",
            "Epoch 10/20\n",
            "2500/2500 [==============================] - 11s 4ms/step - loss: 1958.8134 - mse: 1958.8134\n",
            "Epoch 11/20\n",
            "2500/2500 [==============================] - 9s 4ms/step - loss: 1905.3455 - mse: 1905.3455\n",
            "Epoch 12/20\n",
            "2500/2500 [==============================] - 11s 4ms/step - loss: 1839.3940 - mse: 1839.3940\n",
            "Epoch 13/20\n",
            "2500/2500 [==============================] - 10s 4ms/step - loss: 1807.9818 - mse: 1807.9818\n",
            "Epoch 14/20\n",
            "2500/2500 [==============================] - 10s 4ms/step - loss: 1720.9572 - mse: 1720.9572\n",
            "Epoch 15/20\n",
            "2500/2500 [==============================] - 9s 4ms/step - loss: 1697.0204 - mse: 1697.0204\n",
            "Epoch 16/20\n",
            "2500/2500 [==============================] - 8s 3ms/step - loss: 1673.5562 - mse: 1673.5562\n",
            "Epoch 17/20\n",
            "2500/2500 [==============================] - 9s 4ms/step - loss: 1653.3501 - mse: 1653.3501\n",
            "Epoch 18/20\n",
            "2500/2500 [==============================] - 9s 3ms/step - loss: 1626.2692 - mse: 1626.2692\n",
            "Epoch 19/20\n",
            "2500/2500 [==============================] - 9s 3ms/step - loss: 1578.1378 - mse: 1578.1378\n",
            "Epoch 20/20\n",
            "2500/2500 [==============================] - 9s 3ms/step - loss: 1522.2706 - mse: 1522.2706\n"
          ]
        },
        {
          "data": {
            "text/plain": [
              "<keras.callbacks.History at 0x2879c142f70>"
            ]
          },
          "execution_count": 114,
          "metadata": {},
          "output_type": "execute_result"
        }
      ],
      "source": [
        "lstm_network.fit(train_data, train_label, epochs = 20)"
      ]
    },
    {
      "cell_type": "code",
      "execution_count": 70,
      "metadata": {
        "id": "hxe6pxk8yqeb"
      },
      "outputs": [
        {
          "name": "stdout",
          "output_type": "stream",
          "text": [
            "625/625 [==============================] - 1s 2ms/step\n",
            "2500/2500 [==============================] - 4s 1ms/step\n"
          ]
        }
      ],
      "source": [
        "predict = lstm_network.predict([test_data])\n",
        "predict2 = lstm_network.predict([train_data])"
      ]
    },
    {
      "cell_type": "code",
      "execution_count": 71,
      "metadata": {
        "id": "eZc9x_TZXwg7"
      },
      "outputs": [
        {
          "data": {
            "text/plain": [
              "(array([ -4.6522803,  -4.3595433,  -4.3444924, ..., 283.44193  ,\n",
              "        285.01935  , 289.08566  ], dtype=float32),\n",
              " array([ -5.0552926,  -5.0193796,  -4.913826 , ..., 367.81543  ,\n",
              "        371.17834  , 371.31247  ], dtype=float32))"
            ]
          },
          "execution_count": 71,
          "metadata": {},
          "output_type": "execute_result"
        }
      ],
      "source": [
        "np.unique(predict[:,0]), np.unique(predict[:,1])"
      ]
    },
    {
      "cell_type": "code",
      "execution_count": 72,
      "metadata": {
        "id": "EHyJiJF4Ho34"
      },
      "outputs": [],
      "source": [
        "lp = len(predict)"
      ]
    },
    {
      "cell_type": "code",
      "execution_count": 73,
      "metadata": {
        "id": "Mho9W1QCXwg8"
      },
      "outputs": [
        {
          "data": {
            "text/plain": [
              "0.13378904021038673"
            ]
          },
          "execution_count": 73,
          "metadata": {},
          "output_type": "execute_result"
        }
      ],
      "source": [
        "from sklearn.metrics import r2_score\n",
        "r2_score(test_label, predict)"
      ]
    },
    {
      "cell_type": "code",
      "execution_count": 74,
      "metadata": {
        "id": "ztbRyPGxpF2h"
      },
      "outputs": [],
      "source": [
        "import matplotlib.pyplot as plt"
      ]
    },
    {
      "cell_type": "code",
      "execution_count": 75,
      "metadata": {
        "id": "w6Hp-7BvrNe1"
      },
      "outputs": [
        {
          "data": {
            "text/plain": [
              "[<matplotlib.lines.Line2D at 0x2882ad4fd90>,\n",
              " <matplotlib.lines.Line2D at 0x2882ad4fdc0>]"
            ]
          },
          "execution_count": 75,
          "metadata": {},
          "output_type": "execute_result"
        },
        {
          "data": {
            "image/png": "[encoded data removed]",
            "text/plain": [
              "<Figure size 640x480 with 1 Axes>"
            ]
          },
          "metadata": {},
          "output_type": "display_data"
        }
      ],
      "source": [
        "plt.plot(range(lp),predict)\n",
        "plt.plot(range(lp),np.array(test_label)[:])"
      ]
    },
    {
      "cell_type": "code",
      "execution_count": 76,
      "metadata": {
        "id": "UraeUq9mr1J1"
      },
      "outputs": [
        {
          "data": {
            "text/plain": [
              "[<matplotlib.lines.Line2D at 0x2882a12d760>,\n",
              " <matplotlib.lines.Line2D at 0x2882a12d790>]"
            ]
          },
          "execution_count": 76,
          "metadata": {},
          "output_type": "execute_result"
        },
        {
          "data": {
            "image/png": "[encoded data removed]",
            "text/plain": [
              "<Figure size 640x480 with 1 Axes>"
            ]
          },
          "metadata": {},
          "output_type": "display_data"
        }
      ],
      "source": [
        "plt.plot(range(80000),predict2)\n",
        "plt.plot(range(80000),np.array(train_label)[:])"
      ]
    },
    {
      "cell_type": "code",
      "execution_count": null,
      "metadata": {
        "id": "89kUwaIXXwg7"
      },
      "outputs": [],
      "source": [
        "yp = pd.DataFrame(predict,columns=['pre_CO','pre_Eth'])"
      ]
    },
    {
      "cell_type": "code",
      "execution_count": null,
      "metadata": {
        "id": "joPIQVwfXwg7"
      },
      "outputs": [],
      "source": [
        "yp"
      ]
    },
    {
      "cell_type": "code",
      "execution_count": null,
      "metadata": {
        "id": "1LWSypnSXwg8"
      },
      "outputs": [],
      "source": [
        "yp = pd.concat([c,yp], axis=1)"
      ]
    },
    {
      "cell_type": "code",
      "execution_count": null,
      "metadata": {
        "id": "rfVeernrXwg8"
      },
      "outputs": [],
      "source": [
        "yp[\"dCO\"] = yp[\"CO\"] - yp[\"pre_CO\"]"
      ]
    },
    {
      "cell_type": "code",
      "execution_count": null,
      "metadata": {
        "id": "eb3aEQKyXwg8"
      },
      "outputs": [],
      "source": [
        "yp[\"dEth\"] = yp[\"Ethylene\"] - yp[\"pre_Eth\"]"
      ]
    },
    {
      "cell_type": "code",
      "execution_count": null,
      "metadata": {
        "id": "fUt0_9wOXwg8"
      },
      "outputs": [],
      "source": [
        "yp.to_csv(\"/content/drive/MyDrive/asd.csv\")"
      ]
    },
    {
      "cell_type": "code",
      "execution_count": null,
      "metadata": {
        "id": "DyJVSvZG-W8n"
      },
      "outputs": [],
      "source": [
        "model.save('/content/drive/MyDrive/gassensor.h')"
      ]
    },
    {
      "cell_type": "code",
      "execution_count": null,
      "metadata": {
        "id": "mHjRXA-3kWB9"
      },
      "outputs": [],
      "source": [
        "from sklearn.linear_model import LinearRegression"
      ]
    },
    {
      "cell_type": "code",
      "execution_count": null,
      "metadata": {
        "colab": {
          "base_uri": "https://localhost:8080/"
        },
        "id": "P9U9c2ZSPShz",
        "outputId": "7a4f7901-3363-48da-d028-6c62d533d33b"
      },
      "outputs": [
        {
          "data": {
            "text/plain": [
              "0.8372878628644025"
            ]
          },
          "execution_count": 89,
          "metadata": {},
          "output_type": "execute_result"
        }
      ],
      "source": [
        "model = LinearRegression()\n",
        "model.fit(d,c)\n",
        "model.score(d,c)"
      ]
    },
    {
      "cell_type": "code",
      "execution_count": null,
      "metadata": {
        "id": "Ui8SP7P3Qusp"
      },
      "outputs": [],
      "source": [
        "predict = model.predict(d)"
      ]
    },
    {
      "cell_type": "code",
      "execution_count": null,
      "metadata": {
        "id": "SvEV_PL0YLhO"
      },
      "outputs": [],
      "source": []
    }
  ],
  "metadata": {
    "colab": {
      "provenance": []
    },
    "gpuClass": "standard",
    "kernelspec": {
      "display_name": "tensor",
      "language": "python",
      "name": "python3"
    },
    "language_info": {
      "codemirror_mode": {
        "name": "ipython",
        "version": 3
      },
      "file_extension": ".py",
      "mimetype": "text/x-python",
      "name": "python",
      "nbconvert_exporter": "python",
      "pygments_lexer": "ipython3",
      "version": "3.9.13 (main, Oct 13 2022, 21:23:06) [MSC v.1916 64 bit (AMD64)]"
    },
    "vscode": {
      "interpreter": {
        "hash": "f344b8cf5f49a34ecb8642d7a7c67b8fb0a38b8bd9d961fbd1443fa1587c67cf"
      }
    }
  },
  "nbformat": 4,
  "nbformat_minor": 0
}
