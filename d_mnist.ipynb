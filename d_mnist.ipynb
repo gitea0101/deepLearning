{
  "cells": [
    {
      "cell_type": "code",
      "execution_count": 1,
      "metadata": {
        "id": "Xk-HBuAgThMg"
      },
      "outputs": [],
      "source": [
        "import numpy as np\n",
        "import matplotlib.pyplot as plt\n",
        "import tensorflow as tf"
      ]
    },
    {
      "cell_type": "code",
      "execution_count": 2,
      "metadata": {
        "colab": {
          "base_uri": "https://localhost:8080/"
        },
        "id": "-DRxROpMTm9l",
        "outputId": "37d95c8b-40fa-454e-cdb7-fd623aac470e"
      },
      "outputs": [
        {
          "name": "stdout",
          "output_type": "stream",
          "text": [
            "Downloading data from https://storage.googleapis.com/tensorflow/tf-keras-datasets/mnist.npz\n",
            "11490434/11490434 [==============================] - 1s 0us/step\n"
          ]
        }
      ],
      "source": [
        "mnist = tf.keras.datasets.mnist\n",
        "\n",
        "(train_x, train_y), (test_x, test_y) = mnist.load_data()\n",
        "\n",
        "train_x, test_x = train_x/255.0, test_x/255.0"
      ]
    },
    {
      "cell_type": "code",
      "execution_count": 3,
      "metadata": {
        "id": "eJ3PpEiXT2jC"
      },
      "outputs": [],
      "source": [
        "# model = tf.keras.models.Sequential([\n",
        "#     tf.keras.layers.Flatten(input_shape = (28, 28)),\n",
        "#     tf.keras.layers.Dense(units = 256, activation = 'tanh'),\n",
        "#     tf.keras.layers.Dense(units = 256, activation = 'tanh'),\n",
        "#     tf.keras.layers.Dense(units = 10, activation = 'softmax')\n",
        "# ])\n",
        "# model.compile(optimizer = 'adam',\n",
        "#               loss = 'sparse_categorical_crossentropy',\n",
        "#               metrics = ['accuracy'])\n",
        "# loss = model.fit(train_x, train_y, epochs = 5)\n",
        "# test_loss, test_acc = model.evaluate(test_x, test_y)"
      ]
    },
    {
      "cell_type": "code",
      "execution_count": 4,
      "metadata": {
        "id": "eMu4VGje2I5a"
      },
      "outputs": [],
      "source": [
        "brench = 100\n",
        "\n",
        "inputs1 = tf.keras.layers.Input(shape = (28,28))\n",
        "\n",
        "activation1 = 'relu'\n",
        "\n",
        "# kernel_init = \"glorot_uniform\"\n",
        "kernel_init = \"he_normal\"\n",
        "\n",
        "x = tf.keras.layers.Flatten(input_shape = (28, 28))(inputs1)\n",
        "\n",
        "for i in range(100):\n",
        "  x = tf.keras.layers.Dense(50 ,activation= activation1, kernel_initializer=kernel_init)(x)\n",
        "\n",
        "\n",
        "x = tf.keras.layers.Dense(10 ,activation= 'softmax', kernel_initializer=kernel_init)(x)\n",
        "\n",
        "outputs = x\n",
        " \n",
        "model = tf.keras.Model(inputs1, outputs)"
      ]
    },
    {
      "cell_type": "code",
      "execution_count": 5,
      "metadata": {
        "id": "SijrMZ243hDk"
      },
      "outputs": [],
      "source": [
        "lr = 0.0002\n",
        "\n",
        "loss_object = tf.keras.losses.sparse_categorical_crossentropy\n",
        "optimizer = tf.keras.optimizers.Adam(learning_rate=lr)"
      ]
    },
    {
      "cell_type": "code",
      "execution_count": null,
      "metadata": {
        "colab": {
          "base_uri": "https://localhost:8080/"
        },
        "id": "hlQ2YD12XWOg",
        "outputId": "2f6875ca-009b-4248-d14e-99521147fc59"
      },
      "outputs": [
        {
          "name": "stdout",
          "output_type": "stream",
          "text": [
            "0 loss : 2.303e+00,  2.301e+00\n",
            "10 loss : 2.235e+00,  2.214e+00\n"
          ]
        }
      ],
      "source": [
        "train_loss_record = []\n",
        "\n",
        "pi = np.pi\n",
        "step = 0\n",
        "grad = 1.\n",
        "\n",
        "for itr in range(8000):\n",
        "  with tf.GradientTape() as tape:\n",
        "\n",
        "    predictions = model(train_x)\n",
        "    loss = loss_object(train_y, predictions)\n",
        "    train_loss_record.append(tf.reduce_mean(loss))\n",
        "\n",
        "    grad_w = tape.gradient(loss, model.trainable_variables)\n",
        "  \n",
        "    for n in range(101):\n",
        "      grad_w[2*n] = grad_w[2*n] * (0.7 + 0.3 * np.cos(2*pi*(n + step) / 100))\n",
        "      grad_w[2*n+1] = grad_w[2*n+1] * (0.7 + 0.3 * np.cos(2*pi*(n + step) / 100))\n",
        "    \n",
        "    optimizer.apply_gradients(zip(grad_w, model.trainable_variables))\n",
        "  if step == 100:\n",
        "    step = 0\n",
        "  \n",
        "  if itr % 10== 0:\n",
        "      test_pred = model(test_x)\n",
        "      test_loss = loss_object(test_y, test_pred)\n",
        "      \n",
        "      print(f\"{itr} loss : {tf.reduce_mean(loss).numpy():.3e},  {tf.reduce_mean(test_loss).numpy():.3e}\")"
      ]
    },
    {
      "cell_type": "code",
      "execution_count": null,
      "metadata": {
        "colab": {
          "base_uri": "https://localhost:8080/"
        },
        "id": "UPupGpsE2FVJ",
        "outputId": "09155d80-df69-45ce-99a1-74a824190f03"
      },
      "outputs": [
        {
          "name": "stdout",
          "output_type": "stream",
          "text": [
            "0 loss : 2.354e+00,  2.315e+00\n",
            "10 loss : 2.301e+00,  2.300e+00\n",
            "20 loss : 2.266e+00,  2.251e+00\n",
            "30 loss : 2.112e+00,  2.098e+00\n",
            "40 loss : 2.026e+00,  2.017e+00\n"
          ]
        }
      ],
      "source": [
        "train_loss_record = []\n",
        "\n",
        "pi = np.pi\n",
        "step = 0\n",
        "grad = 1.\n",
        "\n",
        "for itr in range(8000):\n",
        "  with tf.GradientTape() as tape:\n",
        "\n",
        "    predictions = model(train_x)\n",
        "    loss = loss_object(train_y, predictions)\n",
        "    train_loss_record.append(tf.reduce_mean(loss))\n",
        "\n",
        "    if step < 50:\n",
        "      step = step + 1\n",
        "      \n",
        "    elif step >= 50 and step < 150:\n",
        "      step = step + 1\n",
        "      grad = np.cos(pi*((step-50)/100))\n",
        "\n",
        "    elif step >= 150 and step < 200:\n",
        "      step = step + 1\n",
        "\n",
        "    elif step >= 200 and step < 300:\n",
        "      step = step + 1\n",
        "      grad = np.cos(pi + pi*((step-200)/100))\n",
        "\n",
        "    elif step == 300:\n",
        "      step = 0\n",
        "\n",
        "    grad_w = tape.gradient(loss, model.trainable_variables)\n",
        "  \n",
        "    for n in range(101):\n",
        "      grad_w[2*n] = grad_w[2*n] * (0.65 + 0.007 * grad * (n-50) )\n",
        "      grad_w[2*n+1] = grad_w[2*n+1] * (0.65 + 0.007 * grad * (n-50) )\n",
        "    \n",
        "    optimizer.apply_gradients(zip(grad_w, model.trainable_variables))\n",
        "\n",
        "  if itr % 10== 0:\n",
        "      test_pred = model(test_x)\n",
        "      test_loss = loss_object(test_y, test_pred)\n",
        "      \n",
        "      print(f\"{itr} loss : {tf.reduce_mean(loss).numpy():.3e},  {tf.reduce_mean(test_loss).numpy():.3e}\")"
      ]
    },
    {
      "cell_type": "code",
      "execution_count": 70,
      "metadata": {
        "colab": {
          "base_uri": "https://localhost:8080/",
          "height": 501
        },
        "id": "9rJ1S2lW7OgI",
        "outputId": "8d3789b9-5d97-4192-95d2-53ca322366e4"
      },
      "outputs": [
        {
          "name": "stdout",
          "output_type": "stream",
          "text": [
            "1214 loss : 3.877e-01,  7.239e-01\n"
          ]
        },
        {
          "data": {
            "image/png": "[encoded data removed]",
            "text/plain": [
              "<Figure size 720x576 with 1 Axes>"
            ]
          },
          "metadata": {
            "needs_background": "light"
          },
          "output_type": "display_data"
        }
      ],
      "source": [
        "print(f\"{itr} loss : {tf.reduce_mean(loss).numpy():.3e},  {tf.reduce_mean(test_loss).numpy():.3e}\")\n",
        "\n",
        "plt.figure(figsize = (10,8))\n",
        "plt.plot(train_loss_record)\n",
        "plt.show()"
      ]
    },
    {
      "cell_type": "code",
      "execution_count": 71,
      "metadata": {
        "colab": {
          "base_uri": "https://localhost:8080/"
        },
        "id": "x-wb2GSZsi5u",
        "outputId": "5f9c835d-a360-4254-f368-7a4bdfbd4ad1"
      },
      "outputs": [
        {
          "name": "stdout",
          "output_type": "stream",
          "text": [
            "1/1 [==============================] - 2s 2s/step - loss: 0.7245 - accuracy: 0.8370\n"
          ]
        }
      ],
      "source": [
        "model.compile(optimizer = optimizer,\n",
        "              loss = 'sparse_categorical_crossentropy',\n",
        "              metrics=['accuracy'])\n",
        "test_loss, test_acc = model.evaluate(test_x, test_y, batch_size=len(test_x))"
      ]
    },
    {
      "cell_type": "code",
      "execution_count": null,
      "metadata": {
        "id": "7-Ji4-mG4CSx"
      },
      "outputs": [],
      "source": [
        "model.compile(optimizer = optimizer,\n",
        "              loss = 'sparse_categorical_crossentropy',\n",
        "              metrics=['accuracy'])"
      ]
    }
  ],
  "metadata": {
    "accelerator": "GPU",
    "colab": {
      "provenance": []
    },
    "gpuClass": "standard",
    "kernelspec": {
      "display_name": "tensor",
      "language": "python",
      "name": "python3"
    },
    "language_info": {
      "name": "python",
      "version": "3.9.13 (main, Oct 13 2022, 21:23:06) [MSC v.1916 64 bit (AMD64)]"
    },
    "vscode": {
      "interpreter": {
        "hash": "f344b8cf5f49a34ecb8642d7a7c67b8fb0a38b8bd9d961fbd1443fa1587c67cf"
      }
    }
  },
  "nbformat": 4,
  "nbformat_minor": 0
}
